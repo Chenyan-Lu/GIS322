{
  "nbformat": 4,
  "nbformat_minor": 0,
  "metadata": {
    "colab": {
      "provenance": [],
      "include_colab_link": true
    },
    "kernelspec": {
      "display_name": "Python 3",
      "language": "python",
      "name": "python3"
    },
    "language_info": {
      "codemirror_mode": {
        "name": "ipython",
        "version": 3
      },
      "file_extension": ".py",
      "mimetype": "text/x-python",
      "name": "python",
      "nbconvert_exporter": "python",
      "pygments_lexer": "ipython3",
      "version": "3.7.3"
    }
  },
  "cells": [
    {
      "cell_type": "markdown",
      "metadata": {
        "id": "view-in-github",
        "colab_type": "text"
      },
      "source": [
        "<a href=\"https://colab.research.google.com/github/Chenyan-Lu/GIS322/blob/main/notebook/Module_1_(3)_Review_of_Numpy_for_Basic_Usage_and_File_Read.ipynb\" target=\"_parent\"><img src=\"https://colab.research.google.com/assets/colab-badge.svg\" alt=\"Open In Colab\"/></a>"
      ]
    },
    {
      "cell_type": "markdown",
      "metadata": {
        "id": "Hnm3uyONsA6q"
      },
      "source": [
        "# Review of numpy for basic usage and file read\n",
        "\n",
        "One of the \"classical\" problems in GIS is the situation where you have a set of coordinates in a file and you need to get them into a map (or into a GIS-software). Python is a really handy tool to solve this problem as with Python it is basically possible to read data from any kind of input datafile (such as csv-, txt-, excel-, or gpx-files (gps data) or from different databases).\n",
        "\n",
        "Tasks:\n",
        "1. Read from sample dataset travelTimes_example_2019.txt using numpy. This file contains travel times in some sampled trips.\n",
        "\n",
        "The first four rows of our data looks like this:\n",
        "   from_id;to_id;fromid_toid;route_number;at;from_x;from_y;to_x;to_y;total_route_time;route_time;route_distance;route_total_lines\n",
        "   5861326;5785640;5861326_5785640;1;08:10;24.9704379;60.3119173;24.8560344;60.399940599999994;125.0;99.0;22917.6;2.0\n",
        "   5861326;5785641;5861326_5785641;1;08:10;24.9704379;60.3119173;24.8605682;60.4000135;123.0;102.0;23123.5;2.0\n",
        "   5861326;5785642;5861326_5785642;1;08:10;24.9704379;60.3119173;24.865102;60.4000863;125.0;103.0;23241.3;2.0\n",
        "\n",
        "The important columns are:\n",
        "\n",
        "**from_x**:\t    x-coordinate of the origin location (longitude)\n",
        "\n",
        "**from_y**:\t    y-coordinate of the origin location (latitude)\n",
        "\n",
        "**to_x**:\t      x-coordinate of the destination location (longitude)\n",
        "\n",
        "**to_y**:\ty-coordinate of the destination location (latitude)\n",
        "\n",
        "**total_route_time**:\tTravel time with public transportation at the route\n",
        "\n",
        "\n"
      ]
    },
    {
      "cell_type": "markdown",
      "metadata": {
        "id": "fR-B9C6vw988"
      },
      "source": [
        "## A review of numpy"
      ]
    },
    {
      "cell_type": "markdown",
      "metadata": {
        "id": "Q-LzTambcIac"
      },
      "source": [
        "reference: https://docs.scipy.org/doc/numpy/user/quickstart.html"
      ]
    },
    {
      "cell_type": "markdown",
      "metadata": {
        "id": "zERezHrGcIad"
      },
      "source": [
        "NumPy’s main object is the homogeneous multidimensional array. It is a table of elements (usually numbers), all of the same type, indexed by a tuple of positive integers. In NumPy dimensions are called axes.\n",
        "\n",
        "For example, the coordinates of a point in 3D space [1, 2, 1] has one axis. That axis has 3 elements in it, so we say it has a length of 3."
      ]
    },
    {
      "cell_type": "markdown",
      "metadata": {
        "id": "JkEqFm8rcIae"
      },
      "source": [
        "#### Let's take a good at a few examples of numpy"
      ]
    },
    {
      "cell_type": "code",
      "metadata": {
        "id": "OwdK5VCIcIaf",
        "outputId": "8d225558-6467-4e1a-f164-850fc00f53e5",
        "colab": {
          "base_uri": "https://localhost:8080/"
        }
      },
      "source": [
        "import numpy as np\n",
        "# create a numpy array\n",
        "a = np.array([7, 8, 9])\n",
        "print(a)"
      ],
      "execution_count": null,
      "outputs": [
        {
          "output_type": "stream",
          "name": "stdout",
          "text": [
            "[7 8 9]\n"
          ]
        }
      ]
    },
    {
      "cell_type": "code",
      "metadata": {
        "id": "P10FvumGcIaj",
        "outputId": "15bdc31c-6b29-46a0-adbc-b372f4b1375e",
        "colab": {
          "base_uri": "https://localhost:8080/"
        }
      },
      "source": [
        "# type of numpy array\n",
        "type(a)"
      ],
      "execution_count": null,
      "outputs": [
        {
          "output_type": "execute_result",
          "data": {
            "text/plain": [
              "numpy.ndarray"
            ]
          },
          "metadata": {},
          "execution_count": 2
        }
      ]
    },
    {
      "cell_type": "code",
      "metadata": {
        "id": "Znr_dLXMcIal",
        "outputId": "6475e81e-7577-4f0a-d835-3964e3aed028",
        "colab": {
          "base_uri": "https://localhost:8080/"
        }
      },
      "source": [
        "# the dimensions of the array. This is a tuple of integers indicating the size of the array in each dimension.\n",
        "# for a matrix with n rows and m columns, shape will be (n,m).\n",
        "a.shape"
      ],
      "execution_count": null,
      "outputs": [
        {
          "output_type": "execute_result",
          "data": {
            "text/plain": [
              "(3,)"
            ]
          },
          "metadata": {},
          "execution_count": 3
        }
      ]
    },
    {
      "cell_type": "code",
      "metadata": {
        "id": "pQA6-SdNcIan",
        "outputId": "76999632-cd37-4a90-a7f2-07259a792e58",
        "colab": {
          "base_uri": "https://localhost:8080/"
        }
      },
      "source": [
        "# the number of axes (dimensions) of the array\n",
        "a.ndim"
      ],
      "execution_count": null,
      "outputs": [
        {
          "output_type": "execute_result",
          "data": {
            "text/plain": [
              "1"
            ]
          },
          "metadata": {},
          "execution_count": 4
        }
      ]
    },
    {
      "cell_type": "code",
      "metadata": {
        "id": "Ws1nj70KcIao",
        "outputId": "50070847-02ba-4ae5-b38d-b72daaba1605",
        "colab": {
          "base_uri": "https://localhost:8080/",
          "height": 36
        }
      },
      "source": [
        "# the name of the type of the elements in the array\n",
        "a.dtype.name"
      ],
      "execution_count": null,
      "outputs": [
        {
          "output_type": "execute_result",
          "data": {
            "text/plain": [
              "'int64'"
            ],
            "application/vnd.google.colaboratory.intrinsic+json": {
              "type": "string"
            }
          },
          "metadata": {},
          "execution_count": 5
        }
      ]
    },
    {
      "cell_type": "code",
      "metadata": {
        "id": "qbcrUdtVcIar",
        "outputId": "0efa3caf-e74a-4f11-bb30-44a3d7e9dd61",
        "colab": {
          "base_uri": "https://localhost:8080/"
        }
      },
      "source": [
        "# the size in bytes of each element of the array\n",
        "a.itemsize"
      ],
      "execution_count": null,
      "outputs": [
        {
          "output_type": "execute_result",
          "data": {
            "text/plain": [
              "8"
            ]
          },
          "metadata": {},
          "execution_count": 6
        }
      ]
    },
    {
      "cell_type": "code",
      "metadata": {
        "id": "NIbkAGP8cIas",
        "outputId": "a9d66fd0-80b1-4d53-bca8-b09768e9e065",
        "colab": {
          "base_uri": "https://localhost:8080/"
        }
      },
      "source": [
        "# the total number of elements of the array\n",
        "a.size"
      ],
      "execution_count": null,
      "outputs": [
        {
          "output_type": "execute_result",
          "data": {
            "text/plain": [
              "3"
            ]
          },
          "metadata": {},
          "execution_count": 7
        }
      ]
    },
    {
      "cell_type": "markdown",
      "metadata": {
        "id": "tmPvjiCAcIau"
      },
      "source": [
        "#### Basic Operations:\n",
        "\n",
        "**1. create a numpy array:**\n",
        "*   **arange(m,n)**: A one dimensional array starting from m, ending in n-1\n",
        "*   **array()**: Create an array from a list\n",
        "\n",
        "\n",
        "   \n",
        "**2. mathematical operations:** Use +, -, *, just as you do for operations of numbers\n",
        "\n",
        "**3. element-wise product:** A*B\n",
        "\n",
        "**4. matrix product:** A.dot(B) or A@B\n",
        "\n",
        "See below examples."
      ]
    },
    {
      "cell_type": "code",
      "metadata": {
        "id": "y9xlAq2scIav",
        "outputId": "cdf9deda-dd5d-42f0-8957-23ed3954c8cb",
        "colab": {
          "base_uri": "https://localhost:8080/"
        }
      },
      "source": [
        "# Create a new numpy array.\n",
        "a = np.array( [5,20,50,60] )  # create a numpy array from a list\n",
        "b = np.arange(2, 6)  # arange(m,n): set a range starting from m (2 in this case), ending with n-1 (6-1 in this case)\n",
        "print(b)"
      ],
      "execution_count": null,
      "outputs": [
        {
          "output_type": "stream",
          "name": "stdout",
          "text": [
            "[2 3 4 5]\n"
          ]
        }
      ]
    },
    {
      "cell_type": "code",
      "metadata": {
        "id": "9755JfB0cIa2",
        "outputId": "5caa4a97-f77f-4ca5-eb75-803831842bd1",
        "colab": {
          "base_uri": "https://localhost:8080/"
        }
      },
      "source": [
        "# minus when two numpy arrays have the same dimension\n",
        "c = a-b\n",
        "print(c)"
      ],
      "execution_count": null,
      "outputs": [
        {
          "output_type": "stream",
          "name": "stdout",
          "text": [
            "[ 3 17 46 55]\n"
          ]
        }
      ]
    },
    {
      "cell_type": "code",
      "metadata": {
        "id": "LHfDY-RpcIa5",
        "outputId": "e7ff6dc1-50fa-49e8-8376-fbbfe2f53a33",
        "colab": {
          "base_uri": "https://localhost:8080/"
        }
      },
      "source": [
        "# take the square of each element in the array\n",
        "b**2"
      ],
      "execution_count": null,
      "outputs": [
        {
          "output_type": "execute_result",
          "data": {
            "text/plain": [
              "array([ 4,  9, 16, 25])"
            ]
          },
          "metadata": {},
          "execution_count": 10
        }
      ]
    },
    {
      "cell_type": "code",
      "metadata": {
        "id": "gqDKlLiccIa7",
        "outputId": "699348ae-3cd0-4418-8170-8d64a6c8d9fe",
        "colab": {
          "base_uri": "https://localhost:8080/"
        }
      },
      "source": [
        "# product\n",
        "\n",
        "10*np.sin(a) # take the sin() of each element in the array and then time each by 10\n",
        "print(np.sin(a))\n",
        "print(10*np.sin(a))"
      ],
      "execution_count": null,
      "outputs": [
        {
          "output_type": "stream",
          "name": "stdout",
          "text": [
            "[-0.95892427  0.91294525 -0.26237485 -0.30481062]\n",
            "[-9.58924275  9.12945251 -2.62374854 -3.04810621]\n"
          ]
        }
      ]
    },
    {
      "cell_type": "code",
      "metadata": {
        "id": "24GW-26PcIa9",
        "outputId": "041deeba-9906-44e4-f024-918dcb1f38c1",
        "colab": {
          "base_uri": "https://localhost:8080/"
        }
      },
      "source": [
        "# true or false\n",
        "a < 35 # compare each element in a with 35"
      ],
      "execution_count": null,
      "outputs": [
        {
          "output_type": "execute_result",
          "data": {
            "text/plain": [
              "array([ True,  True, False, False])"
            ]
          },
          "metadata": {},
          "execution_count": 12
        }
      ]
    },
    {
      "cell_type": "markdown",
      "metadata": {
        "id": "IRcG9G5RcIa_"
      },
      "source": [
        "Unlike in many matrix languages, the product operator * operates elementwise in NumPy arrays. The matrix product can be performed using the @ operator (in python >=3.5) or the dot function or method.\n",
        "\n",
        "#### Element-wise Product\n",
        "\n",
        "![My Image](https://github.com/Chenyan-Lu/GIS322/blob/main/data/dot_product.png?raw=1)\n",
        "\n"
      ]
    },
    {
      "cell_type": "code",
      "metadata": {
        "id": "1YJNMADncIbA"
      },
      "source": [
        "A = np.array([[1,0],\n",
        "        [1,2]])\n",
        "B = np.array([[3,0],\n",
        "        [2,4]])"
      ],
      "execution_count": null,
      "outputs": []
    },
    {
      "cell_type": "code",
      "metadata": {
        "id": "tnr_sgP7cIbC",
        "outputId": "34d57b43-2225-4525-c6a1-2bbee31dc742",
        "colab": {
          "base_uri": "https://localhost:8080/"
        }
      },
      "source": [
        "# elementwise product\n",
        "A * B"
      ],
      "execution_count": null,
      "outputs": [
        {
          "output_type": "execute_result",
          "data": {
            "text/plain": [
              "array([[3, 0],\n",
              "       [2, 8]])"
            ]
          },
          "metadata": {},
          "execution_count": 14
        }
      ]
    },
    {
      "cell_type": "markdown",
      "metadata": {
        "id": "EBQbOFVAbI7R"
      },
      "source": [
        "####Matrix product:\n",
        "\n",
        "\n",
        "![My Image](https://github.com/Chenyan-Lu/GIS322/blob/main/data/matrix_product.png?raw=1)"
      ]
    },
    {
      "cell_type": "code",
      "metadata": {
        "id": "7_MHEL9BcIbF",
        "outputId": "6db021ba-e8e4-4331-8366-7bf677f57e6c",
        "colab": {
          "base_uri": "https://localhost:8080/"
        }
      },
      "source": [
        "# matrix product\n",
        "A @ B"
      ],
      "execution_count": null,
      "outputs": [
        {
          "output_type": "execute_result",
          "data": {
            "text/plain": [
              "array([[3, 0],\n",
              "       [7, 8]])"
            ]
          },
          "metadata": {},
          "execution_count": 15
        }
      ]
    },
    {
      "cell_type": "code",
      "metadata": {
        "id": "t3390T86cIbH",
        "outputId": "a5d2010e-7bb9-4a17-a4d0-ecb6cdefa4e4",
        "colab": {
          "base_uri": "https://localhost:8080/"
        }
      },
      "source": [
        "# matrix product, equaivalent to A@B\n",
        "A.dot(B)"
      ],
      "execution_count": null,
      "outputs": [
        {
          "output_type": "execute_result",
          "data": {
            "text/plain": [
              "array([[3, 0],\n",
              "       [7, 8]])"
            ]
          },
          "metadata": {},
          "execution_count": 16
        }
      ]
    },
    {
      "cell_type": "markdown",
      "metadata": {
        "id": "42DmkuTGcIbJ"
      },
      "source": [
        "**Create new matrix by defining its dimensions**\n",
        "\n",
        "1. **np.ones((m,n))**: create all one matrix which has dimensions of m rows and n columns\n",
        "\n",
        "2. **np.random.random((m,n))**: randomly generate a matrix which has dimensions of m rows and n columns with values within range of (0,1)\n",
        "\n"
      ]
    },
    {
      "cell_type": "code",
      "metadata": {
        "id": "HOkmJDDwcIbK",
        "outputId": "e8153d8c-34b5-4ee6-de78-173c5c670e68",
        "colab": {
          "base_uri": "https://localhost:8080/"
        }
      },
      "source": [
        "a = np.ones((2,3), dtype=int) # create all one matrix which has dimensions of 3 rows and 2 columns\n",
        "b = np.random.random((2,3)) # randomly generate a matrix which has dimensions of 3 rows and 2 columns with values within range of (0,1)\n",
        "\n",
        "print(a)\n",
        "print(b)"
      ],
      "execution_count": null,
      "outputs": [
        {
          "output_type": "stream",
          "name": "stdout",
          "text": [
            "[[1 1 1]\n",
            " [1 1 1]]\n",
            "[[0.76753687 0.16522867 0.61918016]\n",
            " [0.2627253  0.88627708 0.28110617]]\n"
          ]
        }
      ]
    },
    {
      "cell_type": "markdown",
      "metadata": {
        "id": "m7g2EMvZctJS"
      },
      "source": [
        " **Some operations, such as += and *=, act in place to modify an existing array rather than create a new one.**\n"
      ]
    },
    {
      "cell_type": "code",
      "metadata": {
        "id": "5_Fpos-fcIbN",
        "outputId": "70006a80-3070-414f-fb2a-1e04052aa97e",
        "colab": {
          "base_uri": "https://localhost:8080/"
        }
      },
      "source": [
        "a *= 3\n",
        "a"
      ],
      "execution_count": null,
      "outputs": [
        {
          "output_type": "execute_result",
          "data": {
            "text/plain": [
              "array([[3, 3, 3],\n",
              "       [3, 3, 3]])"
            ]
          },
          "metadata": {},
          "execution_count": 18
        }
      ]
    },
    {
      "cell_type": "code",
      "metadata": {
        "id": "x8NNJieJcIbR",
        "outputId": "8a12cc6b-0f4f-488d-beea-73e0cb3ce728",
        "colab": {
          "base_uri": "https://localhost:8080/"
        }
      },
      "source": [
        "b += a\n",
        "b"
      ],
      "execution_count": null,
      "outputs": [
        {
          "output_type": "execute_result",
          "data": {
            "text/plain": [
              "array([[3.76753687, 3.16522867, 3.61918016],\n",
              "       [3.2627253 , 3.88627708, 3.28110617]])"
            ]
          },
          "metadata": {},
          "execution_count": 19
        }
      ]
    },
    {
      "cell_type": "markdown",
      "metadata": {
        "id": "vvpSJKAhcIbY"
      },
      "source": [
        "**Many unary operations, such as computing the sum of all the elements in the array, are implemented as methods of the ndarray class.**\n",
        "\n",
        "**sum()**: get the summation of all elements in the matrix\n",
        "\n",
        "**max()**: get the maximum value within the matrix\n",
        "\n",
        "**min(**): get the minimum value within the matrix"
      ]
    },
    {
      "cell_type": "code",
      "metadata": {
        "id": "yGu2WGFlcIbZ",
        "outputId": "13414404-a43e-4f00-b2bd-06690b98a235",
        "colab": {
          "base_uri": "https://localhost:8080/"
        }
      },
      "source": [
        "a = np.random.random((4,8))\n",
        "a"
      ],
      "execution_count": null,
      "outputs": [
        {
          "output_type": "execute_result",
          "data": {
            "text/plain": [
              "array([[0.88186912, 0.25172216, 0.50793169, 0.47374555, 0.26606082,\n",
              "        0.18135218, 0.29659915, 0.39927331],\n",
              "       [0.72796697, 0.00702942, 0.26592907, 0.9790443 , 0.02635584,\n",
              "        0.70196867, 0.47341916, 0.10243782],\n",
              "       [0.35506463, 0.7258434 , 0.84366075, 0.07319554, 0.65424252,\n",
              "        0.57641552, 0.15823441, 0.33612665],\n",
              "       [0.81572751, 0.23667865, 0.31284944, 0.77818881, 0.40822971,\n",
              "        0.39747569, 0.68439962, 0.68822544]])"
            ]
          },
          "metadata": {},
          "execution_count": 20
        }
      ]
    },
    {
      "cell_type": "code",
      "metadata": {
        "id": "F5huvQHpcIbb",
        "outputId": "4654b987-543c-4774-8c65-cc0da98a7a7a",
        "colab": {
          "base_uri": "https://localhost:8080/"
        }
      },
      "source": [
        "a.sum()"
      ],
      "execution_count": null,
      "outputs": [
        {
          "output_type": "execute_result",
          "data": {
            "text/plain": [
              "14.587263507051786"
            ]
          },
          "metadata": {},
          "execution_count": 21
        }
      ]
    },
    {
      "cell_type": "code",
      "metadata": {
        "id": "3O0muogycIbe",
        "outputId": "bee08c3f-a5a0-4681-eff6-c8623d2481dc",
        "colab": {
          "base_uri": "https://localhost:8080/"
        }
      },
      "source": [
        "a.min()"
      ],
      "execution_count": null,
      "outputs": [
        {
          "output_type": "execute_result",
          "data": {
            "text/plain": [
              "0.007029416728510318"
            ]
          },
          "metadata": {},
          "execution_count": 22
        }
      ]
    },
    {
      "cell_type": "code",
      "metadata": {
        "id": "ojK8y0HGcIbh",
        "outputId": "837b8163-065a-4544-8d9f-32b09586d71f",
        "colab": {
          "base_uri": "https://localhost:8080/"
        }
      },
      "source": [
        "a.max()"
      ],
      "execution_count": null,
      "outputs": [
        {
          "output_type": "execute_result",
          "data": {
            "text/plain": [
              "0.9790442972940168"
            ]
          },
          "metadata": {},
          "execution_count": 23
        }
      ]
    },
    {
      "cell_type": "markdown",
      "metadata": {
        "id": "FMbYiZ5ncIbk"
      },
      "source": [
        "**By default, these operations apply to the array as though it were a list of numbers, regardless of its shape. However, by specifying the axis parameter you can apply an operation along the specified axis of an array:**"
      ]
    },
    {
      "cell_type": "code",
      "metadata": {
        "id": "N67WMV8CcIbl",
        "outputId": "21170dc0-3888-45a7-dda1-33aab94d320c",
        "colab": {
          "base_uri": "https://localhost:8080/"
        }
      },
      "source": [
        "b = np.arange(12).reshape(3,4) # reshape the one dimensional array a matrix with three rows and four columns\n",
        "b"
      ],
      "execution_count": null,
      "outputs": [
        {
          "output_type": "execute_result",
          "data": {
            "text/plain": [
              "array([[ 0,  1,  2,  3],\n",
              "       [ 4,  5,  6,  7],\n",
              "       [ 8,  9, 10, 11]])"
            ]
          },
          "metadata": {},
          "execution_count": 24
        }
      ]
    },
    {
      "cell_type": "code",
      "metadata": {
        "id": "m60GONTicIbo",
        "outputId": "b49e2af6-2656-4e82-bce7-aaefb577c3c7",
        "colab": {
          "base_uri": "https://localhost:8080/"
        }
      },
      "source": [
        "# sum of each column\n",
        "b.sum(axis=0)"
      ],
      "execution_count": null,
      "outputs": [
        {
          "output_type": "execute_result",
          "data": {
            "text/plain": [
              "array([12, 15, 18, 21])"
            ]
          },
          "metadata": {},
          "execution_count": 25
        }
      ]
    },
    {
      "cell_type": "code",
      "metadata": {
        "id": "nhpHUGPAcIbq",
        "outputId": "635e3f7b-0bb7-470c-a71a-152a66888d9d",
        "colab": {
          "base_uri": "https://localhost:8080/"
        }
      },
      "source": [
        "# min of each row\n",
        "b.min(axis=1)"
      ],
      "execution_count": null,
      "outputs": [
        {
          "output_type": "execute_result",
          "data": {
            "text/plain": [
              "array([0, 4, 8])"
            ]
          },
          "metadata": {},
          "execution_count": 26
        }
      ]
    },
    {
      "cell_type": "code",
      "metadata": {
        "id": "VVRF5fZ8cIbt",
        "outputId": "c2729341-43c1-4774-e135-93133e9df71a",
        "colab": {
          "base_uri": "https://localhost:8080/"
        }
      },
      "source": [
        "# cumulative sum along each row\n",
        "b.cumsum(axis=1)"
      ],
      "execution_count": null,
      "outputs": [
        {
          "output_type": "execute_result",
          "data": {
            "text/plain": [
              "array([[ 0,  1,  3,  6],\n",
              "       [ 4,  9, 15, 22],\n",
              "       [ 8, 17, 27, 38]])"
            ]
          },
          "metadata": {},
          "execution_count": 27
        }
      ]
    },
    {
      "cell_type": "markdown",
      "metadata": {
        "id": "mf1bFgQbcIbv"
      },
      "source": [
        "## 2. read data from a file"
      ]
    },
    {
      "cell_type": "markdown",
      "metadata": {
        "id": "SD9SMHF1cIbw"
      },
      "source": [
        "Often you may need to read a file containing numerical data in Python . One of the options is to import the file/data in Python is Python’s NumPy library.\n",
        "\n",
        "There are number of advantages to use NumPy. NumPy is designed to deal with numerical data, it is fast and it has loads of built-in functions that allow us to import and analyze the data easily. Let us see how to use NumPy to read numerical data file."
      ]
    },
    {
      "cell_type": "markdown",
      "metadata": {
        "id": "RJGCQmCdcIbx"
      },
      "source": [
        "### Load NumPy library"
      ]
    },
    {
      "cell_type": "code",
      "metadata": {
        "id": "u8bnUKSucIbx"
      },
      "source": [
        "# import necessary library\n",
        "import numpy as np    # import numpy library as np\n",
        "\n",
        "# numerical data file\n",
        "filename=\"travelTimes_example_2019.txt\""
      ],
      "execution_count": null,
      "outputs": []
    },
    {
      "cell_type": "markdown",
      "metadata": {
        "id": "-dUsmA82cIbz"
      },
      "source": [
        "### Load a csv file with NumPy"
      ]
    },
    {
      "cell_type": "markdown",
      "metadata": {
        "id": "RMAR3zmecIbz"
      },
      "source": [
        "NumpPy’s loadtxt() function allows us to read numerical data file in text format in to Python. To load a CSV (Comma Separated Values) file, we specify delimitter to “,”."
      ]
    },
    {
      "cell_type": "markdown",
      "metadata": {
        "id": "uK6LNrG9cIb0"
      },
      "source": [
        "### Load a csv file with NumPy and skip a row"
      ]
    },
    {
      "cell_type": "markdown",
      "metadata": {
        "id": "j2cDPInLcIb1"
      },
      "source": [
        "NumPy’s loadtxt() function offers numerous options to load the data. For example,\n",
        "if the data has header information in the first line of the file and if we want to ignore that we can use “skiprows” option.\n",
        "\n",
        "By specifying “skiprows=1” while loading the numerical data, we will skip  the first line of the file. By specifying different “skiprows”, we can skip multiple lines of a file."
      ]
    },
    {
      "cell_type": "code",
      "metadata": {
        "id": "2sbkBNOJcIb1"
      },
      "source": [
        "# use skiprows to skip rows\n",
        "# data = np.loadtxt(filename, delimiter=\",\", skiprows=1)"
      ],
      "execution_count": null,
      "outputs": []
    },
    {
      "cell_type": "markdown",
      "metadata": {
        "id": "HGrHfNnYcIb3"
      },
      "source": [
        "### Load a csv file with NumPy, skip a row and select columns"
      ]
    },
    {
      "cell_type": "markdown",
      "metadata": {
        "id": "M-dfbBQJcIb4"
      },
      "source": [
        "If we want to load/read jusa few columns of of the data file, we can use “usecols” option and specify the column indices that we want to load. Which means, it's possible to choose the columns by index. For example, to load 1st, 2nd, and 5th column we use:"
      ]
    },
    {
      "cell_type": "code",
      "metadata": {
        "id": "XNmnCk1-cIb4"
      },
      "source": [
        "# usecols select columns\n",
        "# data = np.loadtxt(filename, delimiter=\",\", skiprows=1,\n",
        "#                   usecols=[0,1,4])"
      ],
      "execution_count": null,
      "outputs": []
    },
    {
      "cell_type": "markdown",
      "metadata": {
        "id": "Os9vEaaucIb8"
      },
      "source": [
        "### Now let's try to read the text file provided for exercise"
      ]
    },
    {
      "cell_type": "code",
      "metadata": {
        "id": "J5GTdqlqcIck",
        "outputId": "4827fa02-1663-449c-9528-9ab479f5b3c1",
        "colab": {
          "base_uri": "https://localhost:8080/"
        }
      },
      "source": [
        "# load the data with NumPy function \"loadtxt\"\n",
        "# Before running this statement, you need to upload the file \"travelTimes_2015_Helsinki.txt\" to your google colab\n",
        "# See tutorial in Module 0\n",
        "data = np.loadtxt(\"/content/travelTimes_example_2019.txt\", delimiter=';',skiprows=1, usecols=[5,6,7,8,9])\n",
        "data    # check the input"
      ],
      "execution_count": null,
      "outputs": [
        {
          "output_type": "execute_result",
          "data": {
            "text/plain": [
              "array([[ 33.,  11.,  44.,  38., 125.],\n",
              "       [ 71.,  24.,  17.,  49., 123.],\n",
              "       [ 52.,  52.,  69.,  48., 125.],\n",
              "       [ 68.,  48.,  67.,  34., 129.],\n",
              "       [ 11.,  76.,  43.,  24., 118.],\n",
              "       [ 28.,  36.,  84.,  53., 119.],\n",
              "       [ 49.,  19.,  30.,  48., 123.],\n",
              "       [ 47.,  56.,  20.,  28., 129.],\n",
              "       [ 66.,  78.,  71.,  43., 125.],\n",
              "       [ 64.,  49.,  32.,  89., 129.],\n",
              "       [ 51.,  23.,  61.,  16., 173.],\n",
              "       [ 28.,  37.,  82.,  67.,  86.],\n",
              "       [ 90.,  41.,  65.,  58.,  90.],\n",
              "       [ 37.,  84.,  50.,  48.,  92.],\n",
              "       [ 20.,  35.,  46.,  58., 122.],\n",
              "       [ 41.,  77.,  57.,  49., 122.],\n",
              "       [ 31.,  36.,  16.,  57., 122.],\n",
              "       [ 40.,  80.,  14.,  45., 123.],\n",
              "       [ 40.,  57.,  22.,  21., 124.],\n",
              "       [ 25.,  17.,  76.,  22., 126.],\n",
              "       [ 85.,  31.,  64.,  22., 171.],\n",
              "       [ 56.,  70.,  14.,  23.,  94.],\n",
              "       [ 27.,  25.,  55.,  44.,  90.],\n",
              "       [ 41.,  31.,  76.,  54.,  87.],\n",
              "       [ 86.,  74.,  71.,  45.,  87.],\n",
              "       [ 52.,  62.,  50.,  23.,  89.],\n",
              "       [ 21.,  90.,  69.,  55., 121.],\n",
              "       [ 42.,  87.,  61.,  52., 118.],\n",
              "       [ 31.,  12.,  81.,  34., 119.],\n",
              "       [ 79.,  50.,  80.,  65., 124.],\n",
              "       [ 67.,  61.,  85.,  83., 128.],\n",
              "       [ 36.,  68.,  25.,  27., 171.],\n",
              "       [ 88.,  60.,  60.,  13.,  99.],\n",
              "       [ 70.,  14.,  18.,  78.,  95.],\n",
              "       [ 85.,  78.,  12.,  15.,  95.],\n",
              "       [ 39.,  64.,  50.,  63.,  85.],\n",
              "       [ 90.,  57.,  11.,  43.,  83.],\n",
              "       [ 70.,  23.,  78.,  86.,  84.],\n",
              "       [ 84.,  29.,  66.,  43., 114.],\n",
              "       [ 47.,  45.,  69.,  29., 115.]])"
            ]
          },
          "metadata": {},
          "execution_count": 29
        }
      ]
    },
    {
      "cell_type": "code",
      "metadata": {
        "id": "pEXShl_13mg1",
        "colab": {
          "base_uri": "https://localhost:8080/"
        },
        "outputId": "8892be18-899a-486d-bcfd-2b906175db8e"
      },
      "source": [
        "#Use .shape to check data dimensions\n",
        "print(data.shape)"
      ],
      "execution_count": null,
      "outputs": [
        {
          "output_type": "stream",
          "name": "stdout",
          "text": [
            "(40, 5)\n"
          ]
        }
      ]
    },
    {
      "cell_type": "code",
      "metadata": {
        "id": "9GymG7Bl32Ga"
      },
      "source": [],
      "execution_count": null,
      "outputs": []
    }
  ]
}