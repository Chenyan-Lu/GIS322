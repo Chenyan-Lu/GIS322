{
  "nbformat": 4,
  "nbformat_minor": 0,
  "metadata": {
    "colab": {
      "provenance": [],
      "include_colab_link": true
    },
    "kernelspec": {
      "name": "python3",
      "display_name": "Python 3"
    }
  },
  "cells": [
    {
      "cell_type": "markdown",
      "metadata": {
        "id": "view-in-github",
        "colab_type": "text"
      },
      "source": [
        "<a href=\"https://colab.research.google.com/github/Chenyan-Lu/GIS322/blob/main/notebook/Module_1_(1)_Data_Types_Functions_and_Modules.ipynb\" target=\"_parent\"><img src=\"https://colab.research.google.com/assets/colab-badge.svg\" alt=\"Open In Colab\"/></a>"
      ]
    },
    {
      "cell_type": "markdown",
      "metadata": {
        "id": "5T63MmW7wFXI"
      },
      "source": [
        "\n",
        "# **This lecture will review python basics, including data types, functions and modules**\n",
        "\n",
        "\n",
        "\n"
      ]
    },
    {
      "cell_type": "markdown",
      "metadata": {
        "id": "nEihkSp0wEyM"
      },
      "source": [
        "## **Python indentation**\n",
        "\n",
        "Indentation refers to the spaces at the beginning of a code line.\n",
        "\n",
        "Where in other programming languages the indentation in code is for readability only, the indentation in Python is very important.\n",
        "\n",
        "Python uses indentation to indicate a block of code.\n",
        "\n",
        "**Below are the rules:**\n",
        "1. The number of spaces is up to you as a programmer, but it has to be at least one.\n",
        "2. You have to use the same number of spaces in the same block of code, otherwise Python will give you an error."
      ]
    },
    {
      "cell_type": "code",
      "metadata": {
        "id": "RD8KZe_X5VsW",
        "outputId": "cf7ada87-8e41-4669-c486-46e9207d1a42",
        "colab": {
          "base_uri": "https://localhost:8080/"
        }
      },
      "source": [
        "if 2 < 6:\n",
        "  print(\"Two is smaller than six!\")"
      ],
      "execution_count": 1,
      "outputs": [
        {
          "output_type": "stream",
          "name": "stdout",
          "text": [
            "Two is smaller than six!\n"
          ]
        }
      ]
    },
    {
      "cell_type": "code",
      "metadata": {
        "id": "6jGB_vAS5r41",
        "colab": {
          "base_uri": "https://localhost:8080/",
          "height": 106
        },
        "outputId": "19e0d06d-a026-4db5-a200-293e307f80e1"
      },
      "source": [
        "if 2 < 6:\n",
        " print(\"Two is smaller than six!\")\n",
        "        print(\"Two is smaller than six!\")"
      ],
      "execution_count": 2,
      "outputs": [
        {
          "output_type": "error",
          "ename": "IndentationError",
          "evalue": "unexpected indent (<ipython-input-2-9c6cee452083>, line 3)",
          "traceback": [
            "\u001b[0;36m  File \u001b[0;32m\"<ipython-input-2-9c6cee452083>\"\u001b[0;36m, line \u001b[0;32m3\u001b[0m\n\u001b[0;31m    print(\"Two is smaller than six!\")\u001b[0m\n\u001b[0m    ^\u001b[0m\n\u001b[0;31mIndentationError\u001b[0m\u001b[0;31m:\u001b[0m unexpected indent\n"
          ]
        }
      ]
    },
    {
      "cell_type": "markdown",
      "metadata": {
        "id": "a_9RSoeL7NJ0"
      },
      "source": [
        "## **Python Variable**\n",
        "\n",
        "1. In Python variables are created the moment you assign a value to it:\n",
        "2. Variables do not need to be declared with any particular type and can even change type after they have been set.\n",
        "3. String variables can be declared either by using single or double quotes.\n",
        "4. Convention for naming a variable is:\n",
        "*   A variable can have a short name (like x and y) or a more descriptive name (age, carname, total_volume).\n",
        "*   A variable name must start with a letter or the underscore character\n",
        "*   A variable name cannot start with a number\n",
        "*   A variable name can only contain alpha-numeric characters and underscores (A-z, 0-9, and _ )\n",
        "*   Variable names are case-sensitive (age, Age and AGE are three different variables)"
      ]
    },
    {
      "cell_type": "code",
      "metadata": {
        "id": "7ZMlmaUn7Phs"
      },
      "source": [
        "x = 4"
      ],
      "execution_count": 3,
      "outputs": []
    },
    {
      "cell_type": "code",
      "metadata": {
        "id": "UolqIMxkQGpk"
      },
      "source": [
        "y = \"John\""
      ],
      "execution_count": 4,
      "outputs": []
    },
    {
      "cell_type": "code",
      "metadata": {
        "id": "KakQieQQQIZs",
        "colab": {
          "base_uri": "https://localhost:8080/"
        },
        "outputId": "7d9f365f-a5fe-473c-f301-f4b86699ce56"
      },
      "source": [
        "print(x)"
      ],
      "execution_count": 5,
      "outputs": [
        {
          "output_type": "stream",
          "name": "stdout",
          "text": [
            "4\n"
          ]
        }
      ]
    },
    {
      "cell_type": "markdown",
      "metadata": {
        "id": "wuRYEuxFQRRU"
      },
      "source": [
        "## Assign Value to Multiple Variables\n",
        "1. Python allows us to assign values to multiple variables in one line.\n",
        "2. We can also assign the same value to multiple variables in one line."
      ]
    },
    {
      "cell_type": "code",
      "metadata": {
        "id": "HWq_qqRrQbI3"
      },
      "source": [
        "x, y, z = \"Orange\", 2, [1,3,4]"
      ],
      "execution_count": 6,
      "outputs": []
    },
    {
      "cell_type": "markdown",
      "metadata": {
        "id": "3U5V2GG-0LLv"
      },
      "source": [
        "## Output Variable values\n",
        "\n",
        "1. The Python print statement is often used to output variables.\n",
        "2. To combine both text and a variable, Python uses the + character.\n",
        "3. For numbers, the + character works as a mathematical operator.\n",
        "4. But if you try to combine a string and a number, Python will give you an error.\n",
        "\n"
      ]
    },
    {
      "cell_type": "code",
      "metadata": {
        "id": "GuvTu64mz_9j",
        "colab": {
          "base_uri": "https://localhost:8080/"
        },
        "outputId": "727d28cc-59ea-49ad-ae72-d13fbce5a7c5"
      },
      "source": [
        "print(\"x's value is: \"+ x) # use comma to concatenate two or more strings\n",
        "# but you cannot use + to concatenate a string with a number so if you run the below code\n",
        "# print(\"x's value is: \", x + y)\n",
        "# you will receive an error, because x is a string and y is a number.\n",
        "# Instead, you may also use comma to print multiple variables\n",
        "print(\"x's value is: \", x, y)\n",
        "print(\"y's value is: %d\" % y) # use outout format to write out y's value. %d means integer. %s means string\n",
        "print(\"z's value is: %s\" % z) # convert a list (z) to a string type (%s) when printing it\n",
        "print(\"z's value is: %s, %s\" % (y,z)) # format to use when you want to output multiple variables\n",
        "                                      # here y can also be printed as a string, so we used %s in the statement"
      ],
      "execution_count": 7,
      "outputs": [
        {
          "output_type": "stream",
          "name": "stdout",
          "text": [
            "x's value is: Orange\n",
            "x's value is:  Orange 2\n",
            "y's value is: 2\n",
            "z's value is: [1, 3, 4]\n",
            "z's value is: 2, [1, 3, 4]\n"
          ]
        }
      ]
    },
    {
      "cell_type": "markdown",
      "metadata": {
        "id": "UHsa18OeErs7"
      },
      "source": [
        "## Python data types:\n",
        "Variables can store data of different types, and different types can do different things.\n",
        "\n",
        "Python has the following data types built-in by default, in these categories:\n",
        "\n",
        "* Text Type:\tstr\n",
        "* Numeric Types:\tint, float, complex\n",
        "* Sequence Types:\tlist, tuple, range\n",
        "* Mapping Type:\tdict\n",
        "* Set Types:\tset, frozenset\n",
        "* Boolean Type:\tbool\n",
        "\n"
      ]
    },
    {
      "cell_type": "code",
      "metadata": {
        "id": "z0FKc4ZFE16W"
      },
      "source": [
        "# define a string\n",
        "x1 = \"Hellow World\"\n",
        "# define a list\n",
        "x2 = [1,2,4]\n",
        "# the element type in a list could be different\n",
        "x3 = [\"Hi\", 4, [1,2,4,5]]\n",
        "# define a range\n",
        "x4 = range(6)"
      ],
      "execution_count": 8,
      "outputs": []
    },
    {
      "cell_type": "code",
      "metadata": {
        "id": "oxCQ4-r3FQLA",
        "colab": {
          "base_uri": "https://localhost:8080/",
          "height": 245
        },
        "outputId": "880a19b5-13b0-4b52-bb39-bb38300872de"
      },
      "source": [
        "print(x1)\n",
        "print(x2)\n",
        "print(x3)\n",
        "print(x4)\n",
        "print(x5)"
      ],
      "execution_count": 9,
      "outputs": [
        {
          "output_type": "stream",
          "name": "stdout",
          "text": [
            "Hellow World\n",
            "[1, 2, 4]\n",
            "['Hi', 4, [1, 2, 4, 5]]\n",
            "range(0, 6)\n"
          ]
        },
        {
          "output_type": "error",
          "ename": "NameError",
          "evalue": "name 'x5' is not defined",
          "traceback": [
            "\u001b[0;31m---------------------------------------------------------------------------\u001b[0m",
            "\u001b[0;31mNameError\u001b[0m                                 Traceback (most recent call last)",
            "\u001b[0;32m<ipython-input-9-4c1b704aa2a1>\u001b[0m in \u001b[0;36m<cell line: 0>\u001b[0;34m()\u001b[0m\n\u001b[1;32m      3\u001b[0m \u001b[0mprint\u001b[0m\u001b[0;34m(\u001b[0m\u001b[0mx3\u001b[0m\u001b[0;34m)\u001b[0m\u001b[0;34m\u001b[0m\u001b[0;34m\u001b[0m\u001b[0m\n\u001b[1;32m      4\u001b[0m \u001b[0mprint\u001b[0m\u001b[0;34m(\u001b[0m\u001b[0mx4\u001b[0m\u001b[0;34m)\u001b[0m\u001b[0;34m\u001b[0m\u001b[0;34m\u001b[0m\u001b[0m\n\u001b[0;32m----> 5\u001b[0;31m \u001b[0mprint\u001b[0m\u001b[0;34m(\u001b[0m\u001b[0mx5\u001b[0m\u001b[0;34m)\u001b[0m\u001b[0;34m\u001b[0m\u001b[0;34m\u001b[0m\u001b[0m\n\u001b[0m",
            "\u001b[0;31mNameError\u001b[0m: name 'x5' is not defined"
          ]
        }
      ]
    },
    {
      "cell_type": "markdown",
      "metadata": {
        "id": "R1V9zUTKIUXD"
      },
      "source": [
        "### List"
      ]
    },
    {
      "cell_type": "code",
      "metadata": {
        "id": "31RrgutkFpPP",
        "colab": {
          "base_uri": "https://localhost:8080/"
        },
        "outputId": "f2a52393-9af0-47f3-fcdb-a2ad25c1aff6"
      },
      "source": [
        "#Get access to an element in a list, using its index which starts from 0, end at the length of list minus 1\n",
        "#so x3[0] will return the first element in the list\n",
        "print(x3[0])"
      ],
      "execution_count": 10,
      "outputs": [
        {
          "output_type": "stream",
          "name": "stdout",
          "text": [
            "Hi\n"
          ]
        }
      ]
    },
    {
      "cell_type": "code",
      "metadata": {
        "id": "ew5KZX0nGi-g",
        "colab": {
          "base_uri": "https://localhost:8080/"
        },
        "outputId": "0285e580-332f-46e7-d07b-674351323e58"
      },
      "source": [
        "#you may add an element to a list by using .append()\n",
        "print(x3)\n",
        "x3.append(4)\n",
        "print(x3)"
      ],
      "execution_count": 11,
      "outputs": [
        {
          "output_type": "stream",
          "name": "stdout",
          "text": [
            "['Hi', 4, [1, 2, 4, 5]]\n",
            "['Hi', 4, [1, 2, 4, 5], 4]\n"
          ]
        }
      ]
    },
    {
      "cell_type": "markdown",
      "metadata": {
        "id": "LljQweFyIMsS"
      },
      "source": [
        "### Dictionary"
      ]
    },
    {
      "cell_type": "code",
      "metadata": {
        "id": "svTKMHRNGqE7",
        "colab": {
          "base_uri": "https://localhost:8080/"
        },
        "outputId": "13ec2218-3cf9-476e-f437-6bbc3f1cec29"
      },
      "source": [
        "# define a dictionary, a dictionary is a key-value pair\n",
        "x5 = {1: \"Orange\", 2: \"Pair\"}\n",
        "# access x5 element by referring to its key\n",
        "print(x5[1])\n",
        "print(x5[2])\n",
        "# you can alter the value by referring to its key\n",
        "x5[2] = \"Water Melon\"\n",
        "print(x5)\n",
        "# you may add a new item to the dictionary\n",
        "x5[4] = \"Mango\"\n",
        "print(x5)"
      ],
      "execution_count": 12,
      "outputs": [
        {
          "output_type": "stream",
          "name": "stdout",
          "text": [
            "Orange\n",
            "Pair\n",
            "{1: 'Orange', 2: 'Water Melon'}\n",
            "{1: 'Orange', 2: 'Water Melon', 4: 'Mango'}\n"
          ]
        }
      ]
    },
    {
      "cell_type": "markdown",
      "metadata": {
        "id": "j5foMFZfIZ8X"
      },
      "source": [
        "### String\n",
        "1. The strip() method removes any whitespace from the beginning or the end\n",
        "2. The lower() method returns the string in lower case\n",
        "3. The upper() method returns the string in upper case\n",
        "4. The replace() method replaces a string with another string\n",
        "5. The split() method splits the string into substrings if it finds instances of the separator\n",
        "6. Use the format() method to insert numbers into strings\n",
        "7. Use index() to search for a specified value in the string and returns the position of where it was found\n",
        "8. Use start and end index position to get a substring\n",
        "9. The calling method is variableName.MethodName() (**MethodName** can be replaced by the above method name)"
      ]
    },
    {
      "cell_type": "code",
      "metadata": {
        "id": "ZItjW3bOIbDo",
        "outputId": "32e36a7f-08a2-4cab-8f79-36db21ff31cd",
        "colab": {
          "base_uri": "https://localhost:8080/"
        }
      },
      "source": [
        "a = \"Hello World!\" # There is space before and after the text\n",
        "print(\"string 'a' is: \", print(a))\n",
        "b = a.lower()\n",
        "print(\"Lowercase of string 'a': \", b)\n",
        "\n",
        "print(\"'a' split by space becomes:\", a.split(\" \"))"
      ],
      "execution_count": 13,
      "outputs": [
        {
          "output_type": "stream",
          "name": "stdout",
          "text": [
            "Hello World!\n",
            "string 'a' is:  None\n",
            "Lowercase of string 'a':  hello world!\n",
            "'a' split by space becomes: ['Hello', 'World!']\n"
          ]
        }
      ]
    },
    {
      "cell_type": "code",
      "metadata": {
        "id": "Vtw-UJ5RNsDl",
        "outputId": "c20d7b1c-6e83-4cb4-edaf-0cb73425a054",
        "colab": {
          "base_uri": "https://localhost:8080/"
        }
      },
      "source": [
        "c = \"helloworld\"\n",
        "print(c[0:3])\n",
        "print(c[-5:])"
      ],
      "execution_count": 14,
      "outputs": [
        {
          "output_type": "stream",
          "name": "stdout",
          "text": [
            "hel\n",
            "world\n"
          ]
        }
      ]
    },
    {
      "cell_type": "markdown",
      "metadata": {
        "id": "YnqlW1mIP8xK"
      },
      "source": [
        "### List\n",
        "1. A list is a collection which is ordered and changeable. In Python lists are written with square brackets.\n",
        "2. You access the list items by referring to the index number:\n",
        "3. Negative indexing means beginning from the end, -1 refers to the last item, -2 refers to the second last item etc.\n",
        "4. You can specify a range of indexes by specifying where to start and where to end the range. When specifying a range, the return value will be a new list with the specified items.\n",
        "5. Specify negative indexes if you want to start the search from the end of the list.\n",
        "6. To change the value of a specific item, refer to the index number."
      ]
    },
    {
      "cell_type": "code",
      "metadata": {
        "id": "GBs-2OBmP9fG",
        "outputId": "fdd6964b-b9ec-4c16-b28b-00e9f4f69144",
        "colab": {
          "base_uri": "https://localhost:8080/"
        }
      },
      "source": [
        "thislist = [\"freshman\", \"sophomore\",\"junior\", \"senior\"]\n",
        "print(\"thislist is:\", thislist)\n",
        "\n",
        "# example for accessing item\n",
        "print(\"Example for accessing item:\")\n",
        "print(\" 1st item:\", thislist[0])\n",
        "print(\" 2nd item:\", thislist[1])\n",
        "print(\" 3rd item:\", thislist[2])\n",
        "print(\" 4th item:\", thislist[3])\n",
        "\n",
        "#negative indexing\n",
        "#to access the last item of the list\n",
        "print(\"Last item of the list is: \", thislist[-1])\n",
        "\n",
        "#range of indexes\n",
        "#privide the start and end index, the item at end index will not be returned.\n",
        "#if you want to return the second and third item of thislist\n",
        "# you need to use thislist[1:3]\n",
        "# thislist[1] and thislist[2] will be returned as a list\n",
        "# thislist[3] will not be returned\n",
        "print(\"The second and third items of the list: \",thislist[1:3])\n",
        "\n",
        "#get list length\n",
        "print(\"Length of thislist is: \", len(thislist))\n",
        "\n",
        "#remove item by value\n",
        "thislist.remove(\"freshman\")\n",
        "print(\"thislist becomes %s after removing item 'freshman'\" % thislist)\n",
        "\n",
        "#remove item by index\n",
        "#remove the last item\n",
        "del thislist[-1]\n",
        "print(\"thislist becomes %s after removing last item\" % thislist)\n",
        "\n",
        "\n",
        "#if you want to save the last time before removing it\n",
        "#you can assign this value to new variable\n",
        "temp = thislist[-1]\n",
        "#and then try the del sentence again\n",
        "del thislist[-1]\n",
        "print(\"thislist becomes %s after removing last item '%s'\" % (thislist,temp))"
      ],
      "execution_count": 15,
      "outputs": [
        {
          "output_type": "stream",
          "name": "stdout",
          "text": [
            "thislist is: ['freshman', 'sophomore', 'junior', 'senior']\n",
            "Example for accessing item:\n",
            " 1st item: freshman\n",
            " 2nd item: sophomore\n",
            " 3rd item: junior\n",
            " 4th item: senior\n",
            "Last item of the list is:  senior\n",
            "The second and third items of the list:  ['sophomore', 'junior']\n",
            "Length of thislist is:  4\n",
            "thislist becomes ['sophomore', 'junior', 'senior'] after removing item 'freshman'\n",
            "thislist becomes ['sophomore', 'junior'] after removing last item\n",
            "thislist becomes ['sophomore'] after removing last item 'junior'\n"
          ]
        }
      ]
    },
    {
      "cell_type": "markdown",
      "metadata": {
        "id": "N0LmpKmoDJsP"
      },
      "source": [
        "###Dictionary\n",
        "1. A dictionary is a collection which is unordered, changeable and indexed. In Python dictionaries are written with curly brackets, and they have keys and values.\n",
        "2. You can access the items of a dictionary by referring to its key name, inside square brackets.\n",
        "3. There is also a method called get() that will give you the same result.\n",
        "4. You can change the value of a specific item by referring to its key name.\n",
        "5. Adding an item to the dictionary is done by using a new index key and assigning a value to it.\n",
        "6. Remove an item using pop(), popitem(), or del.\n",
        "7. You cannot copy a dictionary simply by typing dict2 = dict1, because: dict2 will only be a reference to dict1, and changes made in dict1 will automatically also be made in dict2. There are ways to make a copy, one way is to use the built-in Dictionary method copy()."
      ]
    },
    {
      "cell_type": "code",
      "metadata": {
        "id": "1X01aqabDdk5",
        "outputId": "36eaa0b5-1b6b-41e8-e39e-f3171590b390",
        "colab": {
          "base_uri": "https://localhost:8080/"
        }
      },
      "source": [
        "cardict = {\n",
        "  \"brand\": \"Honda\",\n",
        "  \"model\": \"Civic\",\n",
        "  \"year\": 2000\n",
        "}\n",
        "print(\"cardict is: \", cardict)\n",
        "#reassign value\n",
        "cardict[\"year\"] = 2007\n",
        "print(\"cardict is: \", cardict)\n",
        "\n",
        "#two ways to get access to the item\n",
        "#get car brand\n",
        "print(\"brand is: \", cardict[\"brand\"])\n",
        "#get car model\n",
        "print(\"model is: \", cardict[\"model\"])\n",
        "#get year\n",
        "print(\"year is:\", cardict.get(\"year\"))\n",
        "\n",
        "#add an item\n",
        "cardict[\"color\"] = \"red\"\n",
        "print(\"cardict is: \", cardict)\n",
        "\n",
        "#remove item with specified key name\n",
        "cardict.pop(\"model\")\n",
        "print(\"cardict becomes %s after removing 'model\" % cardict)\n",
        "\n",
        "#remove the last inserted item by popitem()\n",
        "item = cardict.popitem()\n",
        "print(\"cardict becomes %s after removing %s\" % (cardict,item))\n",
        "\n",
        "#use del to remove the item with the specified key name\n",
        "del cardict[\"brand\"]\n",
        "print(\"cardict becomes %s after removing the item 'brand'\" % cardict)"
      ],
      "execution_count": 16,
      "outputs": [
        {
          "output_type": "stream",
          "name": "stdout",
          "text": [
            "cardict is:  {'brand': 'Honda', 'model': 'Civic', 'year': 2000}\n",
            "cardict is:  {'brand': 'Honda', 'model': 'Civic', 'year': 2007}\n",
            "brand is:  Honda\n",
            "model is:  Civic\n",
            "year is: 2007\n",
            "cardict is:  {'brand': 'Honda', 'model': 'Civic', 'year': 2007, 'color': 'red'}\n",
            "cardict becomes {'brand': 'Honda', 'year': 2007, 'color': 'red'} after removing 'model\n",
            "cardict becomes {'brand': 'Honda', 'year': 2007} after removing ('color', 'red')\n",
            "cardict becomes {'year': 2007} after removing the item 'brand'\n"
          ]
        }
      ]
    }
  ]
}