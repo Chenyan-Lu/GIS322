{
  "nbformat": 4,
  "nbformat_minor": 0,
  "metadata": {
    "colab": {
      "provenance": [],
      "toc_visible": true,
      "include_colab_link": true
    },
    "kernelspec": {
      "name": "python3",
      "display_name": "Python 3"
    }
  },
  "cells": [
    {
      "cell_type": "markdown",
      "metadata": {
        "id": "view-in-github",
        "colab_type": "text"
      },
      "source": [
        "<a href=\"https://colab.research.google.com/github/Chenyan-Lu/GIS322/blob/main/notebook/Module_1_(2)_Conditions_and_Loop.ipynb\" target=\"_parent\"><img src=\"https://colab.research.google.com/assets/colab-badge.svg\" alt=\"Open In Colab\"/></a>"
      ]
    },
    {
      "cell_type": "markdown",
      "metadata": {
        "id": "cx68PZwToUxr"
      },
      "source": [
        "## Python Conditions and If statements\n",
        "Python supports the usual logical conditions from mathematics:\n",
        "\n",
        "* Equals: a == b\n",
        "* Not Equals: a != b\n",
        "* Less than: a < b\n",
        "* Less than or equal to: a <= b\n",
        "* Greater than: a > b\n",
        "* Greater than or equal to: a >= b\n",
        "* These conditions can be used in several ways, most commonly in \"if statements\" and loops.\n",
        "\n",
        "\n",
        "An \"if statement\" is written by using the if keyword."
      ]
    },
    {
      "cell_type": "code",
      "metadata": {
        "id": "vv30oMIAoXAw",
        "outputId": "7a6930c2-c7d3-4a28-aee5-fbd3d3099379",
        "colab": {
          "base_uri": "https://localhost:8080/"
        }
      },
      "source": [
        "# if statement\n",
        "a = 50\n",
        "b = 100\n",
        "if b > a:\n",
        "  print(\"b is greater than a\")\n",
        "\n",
        "# Note: Indentation\n",
        "#Python relies on indentation (whitespace at the beginning of a line) to define\n",
        "#scope in the code. Other programming languages often use curly-brackets for this\n",
        "#purpose."
      ],
      "execution_count": 1,
      "outputs": [
        {
          "output_type": "stream",
          "name": "stdout",
          "text": [
            "b is greater than a\n"
          ]
        }
      ]
    },
    {
      "cell_type": "code",
      "metadata": {
        "id": "3KdcFwXSoixC",
        "outputId": "7aedb38a-8226-4c61-dced-d34a5acec0e8",
        "colab": {
          "base_uri": "https://localhost:8080/"
        }
      },
      "source": [
        "# Elif\n",
        "# The elif keyword is pythons way of saying\n",
        "# \"if the previous conditions were not true, then try this condition\".\n",
        "a = 50\n",
        "b = 50\n",
        "if b > a:\n",
        "  print(\"b is greater than a\")\n",
        "elif a == b:\n",
        "  print(\"a and b are equal\")\n"
      ],
      "execution_count": 2,
      "outputs": [
        {
          "output_type": "stream",
          "name": "stdout",
          "text": [
            "a and b are equal\n"
          ]
        }
      ]
    },
    {
      "cell_type": "code",
      "metadata": {
        "id": "MXZ0xxH2o9Rj",
        "outputId": "73345a82-da40-4258-84d2-da0b1bf03bc2",
        "colab": {
          "base_uri": "https://localhost:8080/"
        }
      },
      "source": [
        "#Else\n",
        "# The else keyword catches anything\n",
        "# which isn't caught by the preceding conditions.\n",
        "a = 50\n",
        "b = 100\n",
        "if b > a:\n",
        "  print(\"b is greater than a\")\n",
        "elif a == b:\n",
        "  print(\"a and b are equal\")\n",
        "else:\n",
        "  print(\"a is greater than b\")"
      ],
      "execution_count": 3,
      "outputs": [
        {
          "output_type": "stream",
          "name": "stdout",
          "text": [
            "b is greater than a\n"
          ]
        }
      ]
    },
    {
      "cell_type": "code",
      "metadata": {
        "id": "chWlANPFpKbG",
        "outputId": "82dfdd5a-f1d8-466d-8bf6-a0320b36a145",
        "colab": {
          "base_uri": "https://localhost:8080/"
        }
      },
      "source": [
        "#And\n",
        "# The and keyword is a logical operator,\n",
        "#and is used to combine conditional statements.\n",
        "a = 200\n",
        "b = 33\n",
        "c = 500\n",
        "if a > b and c > a:\n",
        "  print(\"Both conditions are True\")"
      ],
      "execution_count": 4,
      "outputs": [
        {
          "output_type": "stream",
          "name": "stdout",
          "text": [
            "Both conditions are True\n"
          ]
        }
      ]
    },
    {
      "cell_type": "code",
      "metadata": {
        "id": "EGDJZ3z3pVbC",
        "outputId": "d1272243-31d6-453c-ddcc-38fc842713aa",
        "colab": {
          "base_uri": "https://localhost:8080/"
        }
      },
      "source": [
        "#Or\n",
        "#The or keyword is a logical operator,\n",
        "#and is used to combine conditional statements\n",
        "a = 200\n",
        "b = 33\n",
        "c = 500\n",
        "if a > b or a > c:\n",
        "  print(\"At least one of the conditions is True\")\n"
      ],
      "execution_count": 5,
      "outputs": [
        {
          "output_type": "stream",
          "name": "stdout",
          "text": [
            "At least one of the conditions is True\n"
          ]
        }
      ]
    },
    {
      "cell_type": "code",
      "metadata": {
        "id": "p4xKrUgbpbrV",
        "outputId": "6e26d38e-9de2-49f7-badf-f355e05b64ee",
        "colab": {
          "base_uri": "https://localhost:8080/"
        }
      },
      "source": [
        "#Nested If\n",
        "#You can have if statements\n",
        "#inside if statements, this is called nested if statements.\n",
        "x = 41\n",
        "\n",
        "if x > 10:\n",
        "  print(\"Above ten,\")\n",
        "  if x > 20:\n",
        "    print(\"and also above 20!\")\n",
        "  else:\n",
        "    print(\"but not above 20.\")"
      ],
      "execution_count": 6,
      "outputs": [
        {
          "output_type": "stream",
          "name": "stdout",
          "text": [
            "Above ten,\n",
            "and also above 20!\n"
          ]
        }
      ]
    },
    {
      "cell_type": "markdown",
      "metadata": {
        "id": "pLWmBquUpqaf"
      },
      "source": [
        "## For Loop\n",
        "A for loop is used for iterating over a sequence (that is either a list, a tuple, a dictionary, a set, or a string).\n",
        "\n",
        "This is less like the for keyword in other programming languages, and works more like an iterator method as found in other object-orientated programming languages.\n",
        "\n",
        "With the for loop we can execute a set of statements, once for each item in a list, tuple, set etc."
      ]
    },
    {
      "cell_type": "code",
      "metadata": {
        "id": "ku80qRHZpwaF",
        "outputId": "27a8afa1-80d5-4dee-8629-4efe2a150839",
        "colab": {
          "base_uri": "https://localhost:8080/"
        }
      },
      "source": [
        "# Print each student in a students list:\n",
        "students = [\"freshmen\", \"Sophomore\", \"Junior\", \"Senior\"]\n",
        "for x in students:\n",
        "  print(x)"
      ],
      "execution_count": 7,
      "outputs": [
        {
          "output_type": "stream",
          "name": "stdout",
          "text": [
            "freshmen\n",
            "Sophomore\n",
            "Junior\n",
            "Senior\n"
          ]
        }
      ]
    },
    {
      "cell_type": "code",
      "metadata": {
        "id": "3L-rAfAnp8Kn",
        "outputId": "a33d07be-708b-4f1b-d0de-51184186d085",
        "colab": {
          "base_uri": "https://localhost:8080/"
        }
      },
      "source": [
        "#Looping Through a String\n",
        "#Even strings are iterable objects, they contain a sequence of characters:\n",
        "for x in \"Seinor\":\n",
        "  print(x)"
      ],
      "execution_count": 8,
      "outputs": [
        {
          "output_type": "stream",
          "name": "stdout",
          "text": [
            "S\n",
            "e\n",
            "i\n",
            "n\n",
            "o\n",
            "r\n"
          ]
        }
      ]
    },
    {
      "cell_type": "code",
      "metadata": {
        "id": "tpBR_gdRp_Sc",
        "outputId": "b626c12c-95e1-4ad7-da87-1a5294724880",
        "colab": {
          "base_uri": "https://localhost:8080/"
        }
      },
      "source": [
        "#The break Statement\n",
        "# With the break statement we can stop the loop\n",
        "# before it has looped through all the items.\n",
        "\n",
        "# Exit the loop when x is \"Sophomore\"\n",
        "students = [\"freshmen\", \"Sophomore\", \"Junior\", \"Senior\"]\n",
        "for x in students:\n",
        "  if x == \"Sophomore\":\n",
        "    print(x)"
      ],
      "execution_count": 9,
      "outputs": [
        {
          "output_type": "stream",
          "name": "stdout",
          "text": [
            "Sophomore\n"
          ]
        }
      ]
    },
    {
      "cell_type": "code",
      "metadata": {
        "id": "n4Pm-DQeqXJh",
        "outputId": "b1a9dea3-5520-42ce-f005-75f10915f86a",
        "colab": {
          "base_uri": "https://localhost:8080/"
        }
      },
      "source": [
        "#The continue Statement\n",
        "#With the continue statement we can stop the\n",
        "#current iteration of the loop, and continue with the next.\n",
        "# Do not print \"Sophomore\"\n",
        "students = [\"freshmen\", \"Sophomore\", \"Junior\", \"Senior\"]\n",
        "for x in students:\n",
        "  if x == \"Sophomore\":\n",
        "    continue\n",
        "  print(x)"
      ],
      "execution_count": 10,
      "outputs": [
        {
          "output_type": "stream",
          "name": "stdout",
          "text": [
            "freshmen\n",
            "Junior\n",
            "Senior\n"
          ]
        }
      ]
    },
    {
      "cell_type": "code",
      "metadata": {
        "id": "j5CUszzYqjx3",
        "outputId": "dfb771b8-ade2-41bf-d424-82fd8fc629d1",
        "colab": {
          "base_uri": "https://localhost:8080/"
        }
      },
      "source": [
        "#The range() Function\n",
        "#To loop through a set of code a specified number of times,\n",
        "#we can use the range() function,\n",
        "#The range() function returns a sequence of numbers,\n",
        "#starting from 0 by default, and increments by 1 (by default),\n",
        "#and ends at a specified number.\n",
        "for x in range(6):\n",
        "  print(x)\n",
        "\n",
        "#Note that range(6) is no the values of 0 to 6, but the values 0 to 5."
      ],
      "execution_count": 11,
      "outputs": [
        {
          "output_type": "stream",
          "name": "stdout",
          "text": [
            "0\n",
            "1\n",
            "2\n",
            "3\n",
            "4\n",
            "5\n"
          ]
        }
      ]
    },
    {
      "cell_type": "code",
      "metadata": {
        "id": "QS9afCEcrBQN",
        "outputId": "faa3cdd8-09fe-4ba9-a137-705defd4201b",
        "colab": {
          "base_uri": "https://localhost:8080/"
        }
      },
      "source": [
        "# you can also use a start number than the default 0\n",
        "# and/or set a step in the increase of numbers (default is 1)\n",
        "for x in range(2,20,4): # 2 is the start number\n",
        "                        # 20-1 is the end number (no more than this number)\n",
        "                        # 4 is the increase step\n",
        "      print(x)"
      ],
      "execution_count": 12,
      "outputs": [
        {
          "output_type": "stream",
          "name": "stdout",
          "text": [
            "2\n",
            "6\n",
            "10\n",
            "14\n",
            "18\n"
          ]
        }
      ]
    },
    {
      "cell_type": "code",
      "metadata": {
        "id": "9ao731HHrXlu",
        "outputId": "f615edc3-a15c-400a-9dcb-f2d574ab2dd1",
        "colab": {
          "base_uri": "https://localhost:8080/"
        }
      },
      "source": [
        "#Nested Loops\n",
        "#A nested loop is a loop inside a loop.\n",
        "\n",
        "#The \"inner loop\" will be executed one time\n",
        "#for each iteration of the \"outer loop\"\n",
        "\n",
        "adj = [\"a\", \"b\", \"c\"]\n",
        "fruits = [1,2,3]\n",
        "\n",
        "for x in adj:\n",
        "  for y in fruits:\n",
        "    print(x, y)"
      ],
      "execution_count": 13,
      "outputs": [
        {
          "output_type": "stream",
          "name": "stdout",
          "text": [
            "a 1\n",
            "a 2\n",
            "a 3\n",
            "b 1\n",
            "b 2\n",
            "b 3\n",
            "c 1\n",
            "c 2\n",
            "c 3\n"
          ]
        }
      ]
    },
    {
      "cell_type": "markdown",
      "metadata": {
        "id": "mQVEt3VMruxq"
      },
      "source": [
        "## While loop\n",
        "Python Loops\n",
        "Python has two primitive loop commands:\n",
        "\n",
        "* while loops\n",
        "* for loops\n",
        "\n",
        "With the while loop we can execute a set of statements as long as a condition is true."
      ]
    },
    {
      "cell_type": "code",
      "metadata": {
        "id": "jQD9mEfPr26A",
        "outputId": "cfdc625d-bd9d-4a7a-ac28-0fe6c00aa128",
        "colab": {
          "base_uri": "https://localhost:8080/"
        }
      },
      "source": [
        "# print i as long as i is less than 5:\n",
        "i = 1\n",
        "while i < 6:\n",
        "  print(i)\n",
        "  i += 1"
      ],
      "execution_count": 14,
      "outputs": [
        {
          "output_type": "stream",
          "name": "stdout",
          "text": [
            "1\n",
            "2\n",
            "3\n",
            "4\n",
            "5\n"
          ]
        }
      ]
    },
    {
      "cell_type": "code",
      "metadata": {
        "id": "UZON5SeasDRh",
        "outputId": "beb44e53-4ec4-4a68-de47-d0fd28e4f45d",
        "colab": {
          "base_uri": "https://localhost:8080/"
        }
      },
      "source": [
        "# While loop support the same \"break\" and \"continue\" statement\n",
        "# as for loop\n",
        "i = 1\n",
        "while i < 6:\n",
        "  print(i)\n",
        "  i += 1\n",
        "else:\n",
        "  print(\"i is no longer less than 6\")"
      ],
      "execution_count": 15,
      "outputs": [
        {
          "output_type": "stream",
          "name": "stdout",
          "text": [
            "1\n",
            "2\n",
            "3\n",
            "4\n",
            "5\n",
            "i is no longer less than 6\n"
          ]
        }
      ]
    },
    {
      "cell_type": "markdown",
      "metadata": {
        "id": "NH4pwaDxsPAb"
      },
      "source": [
        "## Function\n",
        "A function is a block of code which only runs when it is called.\n",
        "\n",
        "You can pass data, known as parameters, into a function.\n",
        "\n",
        "A function can return data as a result.\n",
        "\n",
        "In Python a function is defined using the def keyword:\n"
      ]
    },
    {
      "cell_type": "code",
      "metadata": {
        "id": "eB4JeqATsaMT"
      },
      "source": [
        "# how to define a function.\n",
        "# the function will not be executed before you call it\n",
        "# function can have one or more parameters\n",
        "def testFunction(a):\n",
        "  if a > 3:\n",
        "    print(\"Hello World\")\n",
        "  else:\n",
        "    print(\"Hello, \", a)"
      ],
      "execution_count": 16,
      "outputs": []
    },
    {
      "cell_type": "code",
      "metadata": {
        "id": "LGDXgs55smcq",
        "outputId": "68240803-3fa1-404e-ee97-cff99390877d",
        "colab": {
          "base_uri": "https://localhost:8080/"
        }
      },
      "source": [
        "# calling the function to run all statements within the function\n",
        "testFunction(2)"
      ],
      "execution_count": 17,
      "outputs": [
        {
          "output_type": "stream",
          "name": "stdout",
          "text": [
            "Hello,  2\n"
          ]
        }
      ]
    },
    {
      "cell_type": "code",
      "metadata": {
        "id": "NaFyXrNfsrYY",
        "outputId": "b13f9162-438b-43a6-e6db-5041b3e29735",
        "colab": {
          "base_uri": "https://localhost:8080/"
        }
      },
      "source": [
        "testFunction(3)"
      ],
      "execution_count": 18,
      "outputs": [
        {
          "output_type": "stream",
          "name": "stdout",
          "text": [
            "Hello,  3\n"
          ]
        }
      ]
    },
    {
      "cell_type": "code",
      "metadata": {
        "id": "NySoW6eIs7fG",
        "outputId": "a5ac1791-f1db-432f-b101-55fd7af52279",
        "colab": {
          "base_uri": "https://localhost:8080/"
        }
      },
      "source": [
        "#Default Parameter Value\n",
        "\n",
        "#The following example shows how to use a default parameter value.\n",
        "\n",
        "#If we call the function without parameter, it uses the default value:\n",
        "\n",
        "def my_function(country = \"US\"):\n",
        "  print(\"I am from \" + country)\n",
        "\n",
        "my_function(\"Mexico\")\n",
        "my_function(\"India\")\n",
        "my_function() # default value \"US\" is used\n",
        "my_function(\"Brazil\")"
      ],
      "execution_count": 19,
      "outputs": [
        {
          "output_type": "stream",
          "name": "stdout",
          "text": [
            "I am from Mexico\n",
            "I am from India\n",
            "I am from US\n",
            "I am from Brazil\n"
          ]
        }
      ]
    },
    {
      "cell_type": "code",
      "metadata": {
        "id": "xCwoxo09tJiz",
        "outputId": "16e35233-0158-4f62-e90d-b98d5121d048",
        "colab": {
          "base_uri": "https://localhost:8080/"
        }
      },
      "source": [
        "#Return Values\n",
        "# To let a function return a value, use the return statement\n",
        "def square(x):\n",
        "  return x**2\n",
        "\n",
        "print(square(3))\n",
        "print(square(5))"
      ],
      "execution_count": 20,
      "outputs": [
        {
          "output_type": "stream",
          "name": "stdout",
          "text": [
            "9\n",
            "25\n"
          ]
        }
      ]
    },
    {
      "cell_type": "markdown",
      "metadata": {
        "id": "F5oPUd-atvPj"
      },
      "source": [
        "## Python modules\n",
        "random\n",
        "\n",
        "This module implements pseudo-random number generators for various distributions.\n",
        "\n",
        "https://docs.python.org/3/library/random.html"
      ]
    },
    {
      "cell_type": "code",
      "metadata": {
        "id": "8wCiPmlLuIQQ",
        "outputId": "218cdbd6-44b5-4567-de91-6ca400cd7506",
        "colab": {
          "base_uri": "https://localhost:8080/"
        }
      },
      "source": [
        "#you need to import a module before using it\n",
        "\n",
        "import random\n",
        "\n",
        "#random.randint(a, b)\n",
        "#Return a random integer N such that a <= N <= b. Alias for randrange(a, b+1).\n",
        "\n",
        "random.randint(1,5)\n",
        "\n",
        "#everytime you run, the value may be different"
      ],
      "execution_count": 21,
      "outputs": [
        {
          "output_type": "execute_result",
          "data": {
            "text/plain": [
              "2"
            ]
          },
          "metadata": {},
          "execution_count": 21
        }
      ]
    },
    {
      "cell_type": "code",
      "metadata": {
        "id": "4ssmk5dauOKs",
        "outputId": "0d72e5f5-7ca1-4814-8ac5-b8b40e449f5d",
        "colab": {
          "base_uri": "https://localhost:8080/"
        }
      },
      "source": [
        "import random\n",
        "\n",
        "#The random() function returns the next random floating point number in the range [0.0, 1.0).\n",
        "random.random()\n"
      ],
      "execution_count": 22,
      "outputs": [
        {
          "output_type": "execute_result",
          "data": {
            "text/plain": [
              "0.15976684360917326"
            ]
          },
          "metadata": {},
          "execution_count": 22
        }
      ]
    }
  ]
}